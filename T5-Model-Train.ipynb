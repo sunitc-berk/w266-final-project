{
 "cells": [
  {
   "cell_type": "markdown",
   "id": "efdf7c58",
   "metadata": {},
   "source": [
    "#  Training T5-small Model with How2/WikiHow/CNN data. \n",
    "\n",
    "T5 is an encoder-decoder model pre-trained on a multi-task mixture of unsupervised and supervised tasks and for which each task is converted into a text-to-text format. T5 works well on a variety of tasks out-of-the-box by prepending a different prefix to the input corresponding to each task, e.g., summarization, etc.\n",
    "\n"
   ]
  },
  {
   "cell_type": "code",
   "execution_count": 1,
   "id": "6f87f68c",
   "metadata": {},
   "outputs": [
    {
     "name": "stderr",
     "output_type": "stream",
     "text": [
      "Global seed set to 42\n"
     ]
    }
   ],
   "source": [
    "from sklearn.model_selection import train_test_split\n",
    "from simplet5 import SimpleT5\n",
    "import pandas as pd\n",
    "import logging\n",
    "import os"
   ]
  },
  {
   "cell_type": "code",
   "execution_count": 2,
   "id": "1e60bdca",
   "metadata": {},
   "outputs": [],
   "source": [
    "########\n",
    "# DATA #\n",
    "########\n",
    "\n",
    "\n",
    "# Load datasets from CSV files created by the EDA notebooks\n",
    "\n",
    "cnn_dailymail_df = pd.read_csv(os.getcwd() + \"/data/cnn_dm_df.csv\",encoding = \"utf-8\")\n",
    "wikihow_df = pd.read_csv(os.getcwd() + \"/data/wikihow_df.csv\",encoding = \"utf-8\")\n",
    "how2_df = pd.read_csv(os.getcwd() + \"/data/how2_df.csv\",encoding = \"utf-8\")\n",
    "\n",
    "# Filter articles to make sure there is enough text to summarize\n",
    "\n",
    "how2_df = how2_df[(how2_df['num_words_article_pp1'] > 200)] # & (how2_df['num_words'] < 400 )]\n",
    "wikihow_df = wikihow_df[(wikihow_df['num_words_article_pp1'] > 200)] # & (how2_df['num_words'] < 400 )]\n",
    "cnn_dailymail_df = cnn_dailymail_df[(cnn_dailymail_df['num_words_article_pp1'] > 200)]# & (how2_df['num_words'] < 400 )]\n"
   ]
  },
  {
   "cell_type": "code",
   "execution_count": 3,
   "id": "bd382312",
   "metadata": {},
   "outputs": [
    {
     "data": {
      "text/plain": [
       "28      81\n",
       "26      92\n",
       "10     101\n",
       "18     101\n",
       "48     108\n",
       "      ... \n",
       "19     799\n",
       "10     813\n",
       "4      827\n",
       "17    1156\n",
       "6     1560\n",
       "Name: target_text, Length: 150, dtype: int64"
      ]
     },
     "execution_count": 3,
     "metadata": {},
     "output_type": "execute_result"
    }
   ],
   "source": [
    "# we experimented with restricting number of rows from each dataset to see if\n",
    "# it makes a difference.  Tweaking the order and number of rows had minimal impact.\n",
    "# Having all three datasets the data from various datasets to see if it makes a difference. \n",
    "\n",
    "# Note:  We have reduced the number of rows used for training here so that notebook runs in minutes and not hours.\n",
    "# When we trained our model, it took about 12 hours to do so.  \n",
    "# In case the Instructor/TA run the code, we configuired it to run faster.\n",
    "\n",
    "how2_df = how2_df.sample(n=50).reset_index(drop=True)\n",
    "wikihow_df = wikihow_df.sample(n=50).reset_index(drop=True)\n",
    "cnn_dailymail_df = cnn_dailymail_df.sample(n=50).reset_index(drop=True)\n",
    "\n",
    "how2_df = how2_df[['article','summary']]\n",
    "cnn_dailymail_df = cnn_dailymail_df[['article','summary']]\n",
    "wikihow_df = wikihow_df[['article','summary']]\n",
    "\n",
    "merged_df = pd.concat([how2_df, wikihow_df,cnn_dailymail_df], axis=0)\n",
    "merged_df.columns = ['source_text', 'target_text']\n",
    "#erged_df = merged_df[(merged_df[''])]\n",
    "lens = merged_df['target_text'].astype(str).map(len)\n",
    "lens.sort_values()\n"
   ]
  },
  {
   "cell_type": "code",
   "execution_count": 4,
   "id": "98467a07",
   "metadata": {},
   "outputs": [
    {
     "name": "stdout",
     "output_type": "stream",
     "text": [
      "                                          source_text  \\\n",
      "0   summarize: hi , my name is andrea orta mashbur...   \n",
      "1   summarize: as you can see i 'm , i 'm here wit...   \n",
      "2   summarize: hi everybody , i 'm john graden fro...   \n",
      "3   summarize: hi , i 'm scott reil and on behalf ...   \n",
      "4   summarize: all right folks , in this clip i 'm...   \n",
      "..                                                ...   \n",
      "45  summarize: President Barack Obama, in Hawaii f...   \n",
      "46  summarize: What does the eldest of four daught...   \n",
      "47  summarize: In an episode of animated series Fu...   \n",
      "48  summarize: (CNN) -- U.S. Secretary of State Jo...   \n",
      "49  summarize: Before she fell in love with a 10-y...   \n",
      "\n",
      "                                          target_text  \n",
      "0   playing games with children while babysitting ...  \n",
      "1   the wheels of a basketball wheelchair slant ou...  \n",
      "2   when determining the qualifications of a marti...  \n",
      "3   learn why the right spot for each plant is ess...  \n",
      "4   when drawing an angel , try to get the focus o...  \n",
      "..                                                ...  \n",
      "45  Leaders agree on the outline of a trans-Pacifi...  \n",
      "46  In a hilarious photo shared on the Huffington ...  \n",
      "47  Nasa scientists in Maryland recreated the atmo...  \n",
      "48  NEW: Climate talks can set agenda for talks la...  \n",
      "49  Mother-of-eight Diane Brimble tried to have se...  \n",
      "\n",
      "[150 rows x 2 columns]\n"
     ]
    }
   ],
   "source": [
    "# T5 model expects a task related prefix: since it is a summarization task, we will add a prefix \"summarize: \"\n",
    "merged_df['source_text'] = \"summarize: \" + merged_df['source_text']\n",
    "print(merged_df)"
   ]
  },
  {
   "cell_type": "code",
   "execution_count": 5,
   "id": "53030c8e",
   "metadata": {},
   "outputs": [
    {
     "data": {
      "text/plain": [
       "((120, 2), (30, 2))"
      ]
     },
     "execution_count": 5,
     "metadata": {},
     "output_type": "execute_result"
    }
   ],
   "source": [
    "train_df, test_df = train_test_split(merged_df, test_size=0.2)\n",
    "train_df.shape, test_df.shape"
   ]
  },
  {
   "cell_type": "code",
   "execution_count": 6,
   "id": "8a5cef93",
   "metadata": {},
   "outputs": [
    {
     "data": {
      "text/html": [
       "<div>\n",
       "<style scoped>\n",
       "    .dataframe tbody tr th:only-of-type {\n",
       "        vertical-align: middle;\n",
       "    }\n",
       "\n",
       "    .dataframe tbody tr th {\n",
       "        vertical-align: top;\n",
       "    }\n",
       "\n",
       "    .dataframe thead th {\n",
       "        text-align: right;\n",
       "    }\n",
       "</style>\n",
       "<table border=\"1\" class=\"dataframe\">\n",
       "  <thead>\n",
       "    <tr style=\"text-align: right;\">\n",
       "      <th></th>\n",
       "      <th>source_text</th>\n",
       "      <th>target_text</th>\n",
       "    </tr>\n",
       "  </thead>\n",
       "  <tbody>\n",
       "    <tr>\n",
       "      <th>22</th>\n",
       "      <td>summarize: i 'm beau timken , master sake somm...</td>\n",
       "      <td>some popular daiginjo sake brands include onig...</td>\n",
       "    </tr>\n",
       "    <tr>\n",
       "      <th>3</th>\n",
       "      <td>summarize: hi , i 'm scott reil and on behalf ...</td>\n",
       "      <td>learn why the right spot for each plant is ess...</td>\n",
       "    </tr>\n",
       "    <tr>\n",
       "      <th>39</th>\n",
       "      <td>summarize:  Think about your message:\\n\\n\\nCon...</td>\n",
       "      <td>Prepare your communication before you deliver ...</td>\n",
       "    </tr>\n",
       "    <tr>\n",
       "      <th>1</th>\n",
       "      <td>summarize: By . Daily Mail Reporter . PUBLISHE...</td>\n",
       "      <td>Lorraine Sullivan crashed her car in 2010, kil...</td>\n",
       "    </tr>\n",
       "    <tr>\n",
       "      <th>43</th>\n",
       "      <td>summarize: By . Cherie Blair . PUBLISHED: . 20...</td>\n",
       "      <td>Cherie launches programme to help third-world ...</td>\n",
       "    </tr>\n",
       "    <tr>\n",
       "      <th>...</th>\n",
       "      <td>...</td>\n",
       "      <td>...</td>\n",
       "    </tr>\n",
       "    <tr>\n",
       "      <th>46</th>\n",
       "      <td>summarize: What does the eldest of four daught...</td>\n",
       "      <td>In a hilarious photo shared on the Huffington ...</td>\n",
       "    </tr>\n",
       "    <tr>\n",
       "      <th>18</th>\n",
       "      <td>summarize: on behalf of expertvillage.com , my...</td>\n",
       "      <td>learn how to structure your board of directors...</td>\n",
       "    </tr>\n",
       "    <tr>\n",
       "      <th>2</th>\n",
       "      <td>summarize:  Good punches are efficient punches...</td>\n",
       "      <td>Focus on your punching technique to improve po...</td>\n",
       "    </tr>\n",
       "    <tr>\n",
       "      <th>49</th>\n",
       "      <td>summarize: hi my name is madeline franco and i...</td>\n",
       "      <td>more than 300 different species of parrots com...</td>\n",
       "    </tr>\n",
       "    <tr>\n",
       "      <th>4</th>\n",
       "      <td>summarize: After a life-long love of Batman, 2...</td>\n",
       "      <td>Zac Mihajlovic spent two years building a Batm...</td>\n",
       "    </tr>\n",
       "  </tbody>\n",
       "</table>\n",
       "<p>120 rows × 2 columns</p>\n",
       "</div>"
      ],
      "text/plain": [
       "                                          source_text  \\\n",
       "22  summarize: i 'm beau timken , master sake somm...   \n",
       "3   summarize: hi , i 'm scott reil and on behalf ...   \n",
       "39  summarize:  Think about your message:\\n\\n\\nCon...   \n",
       "1   summarize: By . Daily Mail Reporter . PUBLISHE...   \n",
       "43  summarize: By . Cherie Blair . PUBLISHED: . 20...   \n",
       "..                                                ...   \n",
       "46  summarize: What does the eldest of four daught...   \n",
       "18  summarize: on behalf of expertvillage.com , my...   \n",
       "2   summarize:  Good punches are efficient punches...   \n",
       "49  summarize: hi my name is madeline franco and i...   \n",
       "4   summarize: After a life-long love of Batman, 2...   \n",
       "\n",
       "                                          target_text  \n",
       "22  some popular daiginjo sake brands include onig...  \n",
       "3   learn why the right spot for each plant is ess...  \n",
       "39  Prepare your communication before you deliver ...  \n",
       "1   Lorraine Sullivan crashed her car in 2010, kil...  \n",
       "43  Cherie launches programme to help third-world ...  \n",
       "..                                                ...  \n",
       "46  In a hilarious photo shared on the Huffington ...  \n",
       "18  learn how to structure your board of directors...  \n",
       "2   Focus on your punching technique to improve po...  \n",
       "49  more than 300 different species of parrots com...  \n",
       "4   Zac Mihajlovic spent two years building a Batm...  \n",
       "\n",
       "[120 rows x 2 columns]"
      ]
     },
     "execution_count": 6,
     "metadata": {},
     "output_type": "execute_result"
    }
   ],
   "source": [
    "train_df"
   ]
  },
  {
   "cell_type": "code",
   "execution_count": 7,
   "id": "02a1ad82",
   "metadata": {},
   "outputs": [
    {
     "name": "stderr",
     "output_type": "stream",
     "text": [
      "GPU available: False, used: False\n",
      "TPU available: False, using: 0 TPU cores\n",
      "IPU available: False, using: 0 IPUs\n",
      "\n",
      "  | Name  | Type                       | Params\n",
      "-----------------------------------------------------\n",
      "0 | model | T5ForConditionalGeneration | 222 M \n",
      "-----------------------------------------------------\n",
      "222 M     Trainable params\n",
      "0         Non-trainable params\n",
      "222 M     Total params\n",
      "891.614   Total estimated model params size (MB)\n"
     ]
    },
    {
     "data": {
      "application/vnd.jupyter.widget-view+json": {
       "model_id": "50a83c767bde438783ccd1a5fb6e2d86",
       "version_major": 2,
       "version_minor": 0
      },
      "text/plain": [
       "Validation sanity check: 0it [00:00, ?it/s]"
      ]
     },
     "metadata": {},
     "output_type": "display_data"
    },
    {
     "name": "stderr",
     "output_type": "stream",
     "text": [
      "/home/sunitc/anaconda3/lib/python3.8/site-packages/pytorch_lightning/trainer/data_loading.py:105: UserWarning: The dataloader, val dataloader 0, does not have many workers which may be a bottleneck. Consider increasing the value of the `num_workers` argument` (try 8 which is the number of cpus on this machine) in the `DataLoader` init to improve performance.\n",
      "  rank_zero_warn(\n",
      "Global seed set to 42\n",
      "/home/sunitc/anaconda3/lib/python3.8/site-packages/pytorch_lightning/trainer/data_loading.py:105: UserWarning: The dataloader, train dataloader, does not have many workers which may be a bottleneck. Consider increasing the value of the `num_workers` argument` (try 8 which is the number of cpus on this machine) in the `DataLoader` init to improve performance.\n",
      "  rank_zero_warn(\n",
      "/home/sunitc/anaconda3/lib/python3.8/site-packages/pytorch_lightning/trainer/data_loading.py:322: UserWarning: The number of training samples (24) is smaller than the logging interval Trainer(log_every_n_steps=50). Set a lower value for log_every_n_steps if you want to see logs for the training epoch.\n",
      "  rank_zero_warn(\n"
     ]
    },
    {
     "data": {
      "application/vnd.jupyter.widget-view+json": {
       "model_id": "5ed9da1346804b2fb273b755ea268105",
       "version_major": 2,
       "version_minor": 0
      },
      "text/plain": [
       "Training: -1it [00:00, ?it/s]"
      ]
     },
     "metadata": {},
     "output_type": "display_data"
    },
    {
     "data": {
      "application/vnd.jupyter.widget-view+json": {
       "model_id": "",
       "version_major": 2,
       "version_minor": 0
      },
      "text/plain": [
       "Validating: 0it [00:00, ?it/s]"
      ]
     },
     "metadata": {},
     "output_type": "display_data"
    },
    {
     "data": {
      "application/vnd.jupyter.widget-view+json": {
       "model_id": "",
       "version_major": 2,
       "version_minor": 0
      },
      "text/plain": [
       "Validating: 0it [00:00, ?it/s]"
      ]
     },
     "metadata": {},
     "output_type": "display_data"
    },
    {
     "data": {
      "application/vnd.jupyter.widget-view+json": {
       "model_id": "",
       "version_major": 2,
       "version_minor": 0
      },
      "text/plain": [
       "Validating: 0it [00:00, ?it/s]"
      ]
     },
     "metadata": {},
     "output_type": "display_data"
    },
    {
     "data": {
      "application/vnd.jupyter.widget-view+json": {
       "model_id": "",
       "version_major": 2,
       "version_minor": 0
      },
      "text/plain": [
       "Validating: 0it [00:00, ?it/s]"
      ]
     },
     "metadata": {},
     "output_type": "display_data"
    },
    {
     "data": {
      "application/vnd.jupyter.widget-view+json": {
       "model_id": "",
       "version_major": 2,
       "version_minor": 0
      },
      "text/plain": [
       "Validating: 0it [00:00, ?it/s]"
      ]
     },
     "metadata": {},
     "output_type": "display_data"
    }
   ],
   "source": [
    "# Train the T5 model with CNN/How2/Wikihow data\n",
    "\n",
    "model = SimpleT5()\n",
    "model.from_pretrained(model_type=\"t5\", model_name=\"t5-base\")\n",
    "\n",
    "\n",
    "model.train(train_df=train_df, # pandas dataframe with 2 columns: source_text & target_text\n",
    "            eval_df=test_df, # pandas dataframe with 2 columns: source_text & target_text\n",
    "            source_max_token_len = 512, \n",
    "            target_max_token_len = 128,\n",
    "            batch_size = 5,\n",
    "            max_epochs = 5,\n",
    "            use_gpu = False)\n",
    "\n",
    "\n"
   ]
  },
  {
   "cell_type": "code",
   "execution_count": 8,
   "id": "8855386b",
   "metadata": {},
   "outputs": [
    {
     "data": {
      "text/plain": [
       "[\"Temperatures have risen more rapidly than the global average. Increased rainfall and heat waves are also causing more severe storms and wildfires.[2]Human activity contributes to climate change.[4]Weather patterns have changed dramatically over the last 800,000 years.Climate change is driven by human activities.Earth's population is expected to double in the next few decades.More people live in remote areas due to climate change.Alternative effects of climate change on ecosystems\"]"
      ]
     },
     "execution_count": 8,
     "metadata": {},
     "output_type": "execute_result"
    }
   ],
   "source": [
    "# Quick test to validate model is working. \n",
    "\n",
    "model.load_model(\"t5\",\"outputs/simplet5-epoch-7-train-loss-0.9977\", use_gpu=False)\n",
    "\n",
    "text_to_summarize=\"\"\"Contemporary climate change includes both the global warming caused by humans, and its impacts on Earth's weather patterns. There have been previous periods of climate change, but the current changes are more rapid than any known events in Earth's history. The main cause is the emission of greenhouse gases, mostly carbon dioxide (CO2) and methane. Burning fossil fuels for energy use creates most of these emissions. Agriculture, steel making, cement production, and forest loss are additional sources.[3] Temperature rise is also affected by climate feedbacks such as the loss of sunlight-reflecting snow cover, and the release of carbon dioxide from drought-stricken forests. Collectively, these amplify global warming.\n",
    "CO2 concentrations over the last 800,000 years as measured from ice cores (blue/green) and directly (black)\n",
    "On land, temperatures have risen about twice as fast as the global average. Deserts are expanding, while heat waves and wildfires are becoming more common. Increased warming in the Arctic has contributed to melting permafrost, glacial retreat and sea ice loss. Higher temperatures are also causing more intense storms and other weather extremes. In places such as coral reefs, mountains, and the Arctic, many species are forced to relocate or become extinct, as their environment changes. Climate change threatens people with food and water scarcity, increased flooding, extreme heat, more disease, and economic loss. It can also drive human migration.  The World Health Organization calls climate change the greatest threat to global health in the 21st century. Even if efforts to minimise future warming are successful, some effects will continue for centuries. These include sea level rise, and warmer, more acidic oceans.\n",
    "\"\"\"\n",
    "model.predict(text_to_summarize)"
   ]
  }
 ],
 "metadata": {
  "kernelspec": {
   "display_name": "Python 3",
   "language": "python",
   "name": "python3"
  },
  "language_info": {
   "codemirror_mode": {
    "name": "ipython",
    "version": 3
   },
   "file_extension": ".py",
   "mimetype": "text/x-python",
   "name": "python",
   "nbconvert_exporter": "python",
   "pygments_lexer": "ipython3",
   "version": "3.8.8"
  }
 },
 "nbformat": 4,
 "nbformat_minor": 5
}
